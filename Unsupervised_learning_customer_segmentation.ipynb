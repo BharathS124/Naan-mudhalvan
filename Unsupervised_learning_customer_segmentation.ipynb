{
  "nbformat": 4,
  "nbformat_minor": 0,
  "metadata": {
    "colab": {
      "provenance": [],
      "authorship_tag": "ABX9TyNTSAu01ftBYoDNr11RSYS5",
      "include_colab_link": true
    },
    "kernelspec": {
      "name": "python3",
      "display_name": "Python 3"
    },
    "language_info": {
      "name": "python"
    }
  },
  "cells": [
    {
      "cell_type": "markdown",
      "metadata": {
        "id": "view-in-github",
        "colab_type": "text"
      },
      "source": [
        "<a href=\"https://colab.research.google.com/github/BharathS124/Naan-mudhalvan/blob/main/Unsupervised_learning_customer_segmentation.ipynb\" target=\"_parent\"><img src=\"https://colab.research.google.com/assets/colab-badge.svg\" alt=\"Open In Colab\"/></a>"
      ]
    },
    {
      "cell_type": "code",
      "execution_count": null,
      "metadata": {
        "id": "aH5QLpjb0xFs"
      },
      "outputs": [],
      "source": [
        "!pip install gradio --quiet\n",
        "import pandas as pd, matplotlib.pyplot as plt\n",
        "from sklearn.cluster import KMeans\n",
        "from sklearn.preprocessing import StandardScaler\n",
        "import gradio as gr\n",
        "import io\n",
        "\n",
        "def cluster_plot(file):\n",
        "    try:\n",
        "        # Use uploaded file or fallback to built-in demo data\n",
        "        df = pd.read_csv(file.name if file else \"https://raw.githubusercontent.com/selva86/datasets/master/Mall_Customers.csv\")\n",
        "    except:\n",
        "        return \"❌ Error loading the CSV file. Please try another file.\"\n",
        "\n",
        "    X = df[['Annual Income (k$)', 'Spending Score (1-100)']]\n",
        "    X_scaled = StandardScaler().fit_transform(X)\n",
        "    labels = KMeans(n_clusters=5, random_state=0).fit_predict(X_scaled)\n",
        "\n",
        "    plt.figure(figsize=(6, 4))\n",
        "    plt.scatter(X_scaled[:, 0], X_scaled[:, 1], c=labels, cmap='rainbow')\n",
        "    plt.xlabel(\"Annual Income\"), plt.ylabel(\"Spending Score\")\n",
        "    plt.title(\"Customer Segmentation\"), plt.tight_layout()\n",
        "    plt.savefig(\"segmentation_plot.png\")\n",
        "    plt.close()\n",
        "    return \"segmentation_plot.png\"\n",
        "\n",
        "gr.Interface(\n",
        "    fn=cluster_plot,\n",
        "    inputs=gr.File(label=\"Upload CSV with 'Annual Income (k$)' & 'Spending Score (1-100)'\", file_types=[\".csv\"]),\n",
        "    outputs=\"image\",\n",
        "    title=\"Customer Segmentation (KMeans Clustering)\"\n",
        ").launch()\n"
      ]
    }
  ]
}