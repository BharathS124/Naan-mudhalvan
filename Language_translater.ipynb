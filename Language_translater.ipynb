{
  "nbformat": 4,
  "nbformat_minor": 0,
  "metadata": {
    "colab": {
      "provenance": [],
      "authorship_tag": "ABX9TyPA7Lf9+KYuEEaQ4/IrZMsk",
      "include_colab_link": true
    },
    "kernelspec": {
      "name": "python3",
      "display_name": "Python 3"
    },
    "language_info": {
      "name": "python"
    }
  },
  "cells": [
    {
      "cell_type": "markdown",
      "metadata": {
        "id": "view-in-github",
        "colab_type": "text"
      },
      "source": [
        "<a href=\"https://colab.research.google.com/github/BharathS124/Naan-mudhalvan/blob/main/Language_translater.ipynb\" target=\"_parent\"><img src=\"https://colab.research.google.com/assets/colab-badge.svg\" alt=\"Open In Colab\"/></a>"
      ]
    },
    {
      "cell_type": "code",
      "execution_count": null,
      "metadata": {
        "id": "9OkN5o741KA1"
      },
      "outputs": [],
      "source": [
        "# Install required libraries\n",
        "!pip install gradio gtts deep_translator pydub\n",
        "\n",
        "# Import necessary libraries\n",
        "import gradio as gr\n",
        "from deep_translator import GoogleTranslator\n",
        "from gtts import gTTS\n",
        "\n",
        "# Function for translation and text-to-speech\n",
        "def translate_and_speak(text, target_language):\n",
        "    # Translate text\n",
        "    translated_text = GoogleTranslator(source='auto', target=target_language).translate(text)\n",
        "\n",
        "    # Convert to speech\n",
        "    tts = gTTS(translated_text, lang=target_language)\n",
        "    file_path = \"translated_speech.mp3\"\n",
        "    tts.save(file_path)\n",
        "\n",
        "    return translated_text, file_path"
      ]
    }
  ]
}